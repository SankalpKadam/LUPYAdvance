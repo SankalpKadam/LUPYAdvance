{
 "cells": [
  {
   "cell_type": "markdown",
   "metadata": {},
   "source": [
    "# Random Password Generator"
   ]
  },
  {
   "cell_type": "code",
   "execution_count": 10,
   "metadata": {},
   "outputs": [
    {
     "name": "stdout",
     "output_type": "stream",
     "text": [
      "4$7LvB%mg25E\n"
     ]
    }
   ],
   "source": [
    "import random\n",
    "listalpha=[]\n",
    "listnum=[]\n",
    "listchar=[\"@\",\"#\",\"$\",\"%\",\"&\",\"*\"]\n",
    "password=\"\"\n",
    "passlist=[]\n",
    "for i in range(10):\n",
    "    listnum.append(str(i))\n",
    "for j in range(65,123):\n",
    "    if(j<=90 or j>=97):\n",
    "        listalpha.append(chr(j))\n",
    "for alphabet in range(6):\n",
    "    passlist+=random.choice(listalpha)\n",
    "for num in range(4):\n",
    "    passlist+=random.choice(listnum)\n",
    "for char in range(2):\n",
    "    passlist+=random.choice(listchar)\n",
    "random.shuffle(passlist)\n",
    "password=''.join(passlist)\n",
    "print(password)"
   ]
  },
  {
   "cell_type": "code",
   "execution_count": null,
   "metadata": {},
   "outputs": [],
   "source": []
  }
 ],
 "metadata": {
  "kernelspec": {
   "display_name": "Python 3",
   "language": "python",
   "name": "python3"
  },
  "language_info": {
   "codemirror_mode": {
    "name": "ipython",
    "version": 3
   },
   "file_extension": ".py",
   "mimetype": "text/x-python",
   "name": "python",
   "nbconvert_exporter": "python",
   "pygments_lexer": "ipython3",
   "version": "3.6.10"
  }
 },
 "nbformat": 4,
 "nbformat_minor": 4
}
