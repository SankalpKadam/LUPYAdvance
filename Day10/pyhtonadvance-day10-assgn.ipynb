{
 "cells": [
  {
   "cell_type": "code",
   "execution_count": 3,
   "metadata": {},
   "outputs": [
    {
     "name": "stdout",
     "output_type": "stream",
     "text": [
      "1597504820.0\n"
     ]
    }
   ],
   "source": [
    "import time\n",
    "humanreadable=\"15-08-2020 15:20:20\"\n",
    "def humantoEpoch(humanreadable):\n",
    "    epochTime=time.strptime(humanreadable,\"%d-%m-%Y %H:%M:%S\")\n",
    "    t3=time.mktime(epochTime)\n",
    "    return t3\n",
    "print(humantoEpoch(humanreadable))"
   ]
  },
  {
   "cell_type": "code",
   "execution_count": null,
   "metadata": {},
   "outputs": [],
   "source": []
  }
 ],
 "metadata": {
  "kernelspec": {
   "display_name": "Python 3",
   "language": "python",
   "name": "python3"
  },
  "language_info": {
   "codemirror_mode": {
    "name": "ipython",
    "version": 3
   },
   "file_extension": ".py",
   "mimetype": "text/x-python",
   "name": "python",
   "nbconvert_exporter": "python",
   "pygments_lexer": "ipython3",
   "version": "3.6.11"
  }
 },
 "nbformat": 4,
 "nbformat_minor": 4
}
