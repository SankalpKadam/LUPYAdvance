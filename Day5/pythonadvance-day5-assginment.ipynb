{
 "cells": [
  {
   "cell_type": "markdown",
   "metadata": {},
   "source": [
    "# Day5 Assignment (Shield SOS)"
   ]
  },
  {
   "cell_type": "code",
   "execution_count": 3,
   "metadata": {},
   "outputs": [
    {
     "name": "stdout",
     "output_type": "stream",
     "text": [
      "Agent 13,Agent-X,Hitler,"
     ]
    }
   ],
   "source": [
    "sos={\"Nick Fury\" : [\"Tony Stark\", \"Maria Hill\", \"Norman Osborn\"],\n",
    "     \"Hulk\" : [\"Tony Stark\", \"HawkEye\", \"Rogers\"],\n",
    "     \"Rogers\" : [\"Thor\"],\n",
    "     \"Tony Stark\": [\"Pepper Potts\", \"Nick Fury\"],\n",
    "     \"Agent 13\" : [\"Agent-X\", \"Nick Fury\", \"Hitler\"],\n",
    "     \"Thor\": [\"HawkEye\", \"BlackWidow\"],\n",
    "     \"BlackWidow\":[\"HawkEye\"],\n",
    "     \"Maria Hill\" : [\"Hulk\", \"Rogers\", \"Nick Fury\"],\n",
    "     \"Agent-X\" : [\"Agent 13\", \"Rogers\"],\n",
    "     \"Norman Osborn\": [\"Tony Stark\", \"Thor\"]}\n",
    "sos_sender=sos.keys()\n",
    "crewmates=[]\n",
    "imposTOR=[]\n",
    "for each in sos:\n",
    "    for reciever in sos[each]:\n",
    "        if(reciever in sos_sender):\n",
    "            for member in sos[reciever]:\n",
    "                crewmates.append(member)\n",
    "        else:\n",
    "            crewmates.append(reciever)\n",
    "for each in sos.get(\"Nick Fury\"):\n",
    "    for recieving_signal in sos[each]:\n",
    "        imposTOR.append(recieving_signal)\n",
    "        if(sos.get(recieving_signal)!=None):\n",
    "            for everyone in sos[recieving_signal]:\n",
    "                imposTOR.append(everyone)\n",
    "hydra_members=list(set(crewmates)^set(imposTOR))\n",
    "hydra_members.sort()\n",
    "for each_hydra_member in hydra_members:\n",
    "    print(each_hydra_member, end=\",\")"
   ]
  },
  {
   "cell_type": "code",
   "execution_count": null,
   "metadata": {},
   "outputs": [],
   "source": []
  }
 ],
 "metadata": {
  "kernelspec": {
   "display_name": "Python 3",
   "language": "python",
   "name": "python3"
  },
  "language_info": {
   "codemirror_mode": {
    "name": "ipython",
    "version": 3
   },
   "file_extension": ".py",
   "mimetype": "text/x-python",
   "name": "python",
   "nbconvert_exporter": "python",
   "pygments_lexer": "ipython3",
   "version": "3.7.4"
  }
 },
 "nbformat": 4,
 "nbformat_minor": 2
}
