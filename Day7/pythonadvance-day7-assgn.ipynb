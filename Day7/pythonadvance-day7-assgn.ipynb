{
 "cells": [
  {
   "cell_type": "markdown",
   "metadata": {},
   "source": [
    "# Combining Two Lists"
   ]
  },
  {
   "cell_type": "code",
   "execution_count": 2,
   "metadata": {},
   "outputs": [
    {
     "name": "stdout",
     "output_type": "stream",
     "text": [
      "[5, 10, 15, 20, 25, 30, 35, 40, 45, 50, 60]\n"
     ]
    }
   ],
   "source": [
    "list1=[10,20,30,40,50]\n",
    "list2=[5,15,25,35,45,60]\n",
    "n=len(list1+list2)\n",
    "list3=[95]*n\n",
    "i=j=k=0\n",
    "for k in range(len(list3)):\n",
    "    if (i<len(list1) and j<len(list2)):\n",
    "        if (list1[i]<=list2[j]):\n",
    "            list3[k]=list1[i]\n",
    "            i+=1\n",
    "        else:\n",
    "            list3[k]=list2[j]\n",
    "            j+=1\n",
    "    else:\n",
    "        if(i<len(list1)):\n",
    "            list3[k]=list1[i]\n",
    "            i+=1\n",
    "        elif(j<len(list2)):\n",
    "            list3[k]=list2[j]\n",
    "            j+=1\n",
    "        else:\n",
    "            break\n",
    "print(list3)"
   ]
  }
 ],
 "metadata": {
  "kernelspec": {
   "display_name": "Python 3",
   "language": "python",
   "name": "python3"
  },
  "language_info": {
   "codemirror_mode": {
    "name": "ipython",
    "version": 3
   },
   "file_extension": ".py",
   "mimetype": "text/x-python",
   "name": "python",
   "nbconvert_exporter": "python",
   "pygments_lexer": "ipython3",
   "version": "3.6.11"
  }
 },
 "nbformat": 4,
 "nbformat_minor": 4
}
